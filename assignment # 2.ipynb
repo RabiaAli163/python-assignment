{
 "cells": [
  {
   "cell_type": "code",
   "execution_count": 4,
   "metadata": {},
   "outputs": [
    {
     "name": "stdout",
     "output_type": "stream",
     "text": [
      "Enter mathematics marks:98\n",
      "Enter English marks:99\n",
      "Enter Urdu marks:97\n",
      "Enter science marks:90\n",
      "Enter History marks:95\n",
      "Grade A+\n",
      "479\n",
      "95.8\n"
     ]
    }
   ],
   "source": [
    "maths=int(input(\"Enter mathematics marks:\"))\n",
    "eng=int(input(\"Enter English marks:\"))\n",
    "urdu=int(input(\"Enter Urdu marks:\"))\n",
    "sci=int(input(\"Enter science marks:\"))\n",
    "history=int(input(\"Enter History marks:\"))\n",
    "\n",
    "Total=(maths+eng+urdu+sci+history)\n",
    "Percentage = (Total/500)*100\n",
    "if Percentage>=80:\n",
    "    print(\"Grade A+\")\n",
    "elif Percentage>=70 and Percentage<80:\n",
    "    print(\"Grade A\")\n",
    "elif Percentage>=60 and Percentage<70:\n",
    "    print(\"Grade B\")\n",
    "elif Percentage>=50 and Percentage<60:\n",
    "    print(\"Grade C\")\n",
    "else:\n",
    "    print(\"Fail!\")\n",
    "print(Total)\n",
    "print(Percentage)\n",
    "    "
   ]
  },
  {
   "cell_type": "code",
   "execution_count": 8,
   "metadata": {},
   "outputs": [
    {
     "name": "stdout",
     "output_type": "stream",
     "text": [
      "Enter a Number: 8\n",
      "The number is even\n"
     ]
    }
   ],
   "source": [
    "number=int(input(\"Enter a Number: \"))\n",
    "if number%2 == 0:\n",
    "    print(\"The number is even\")\n",
    "else:\n",
    "    print(\"Number is odd\")"
   ]
  },
  {
   "cell_type": "code",
   "execution_count": 9,
   "metadata": {},
   "outputs": [
    {
     "name": "stdout",
     "output_type": "stream",
     "text": [
      "the length of list is:  9\n"
     ]
    }
   ],
   "source": [
    "a=[1,3,5,7,3,4,7,8,0]\n",
    "print (\"the length of list is: \",len(a))"
   ]
  },
  {
   "cell_type": "code",
   "execution_count": 11,
   "metadata": {},
   "outputs": [
    {
     "name": "stdout",
     "output_type": "stream",
     "text": [
      "the sum of list is:  38\n"
     ]
    }
   ],
   "source": [
    "a=[1,3,5,7,3,4,7,8,0]\n",
    "print (\"the sum of list is: \",sum(a))"
   ]
  },
  {
   "cell_type": "code",
   "execution_count": 13,
   "metadata": {},
   "outputs": [
    {
     "name": "stdout",
     "output_type": "stream",
     "text": [
      "The largest number is:  8\n"
     ]
    }
   ],
   "source": [
    "a=[1,3,5,7,3,4,7,8,0]\n",
    "print(\"The largest number is: \", max(a))"
   ]
  },
  {
   "cell_type": "code",
   "execution_count": 17,
   "metadata": {},
   "outputs": [
    {
     "name": "stdout",
     "output_type": "stream",
     "text": [
      "[1, 1, 2, 3]\n"
     ]
    }
   ],
   "source": [
    "a=[1,1,2,3,5,8,13,21,34,55,89]\n",
    "list1=[]\n",
    "for element in a:\n",
    "    if element<5:\n",
    "        list1.append(element)\n",
    "print(list1)"
   ]
  },
  {
   "cell_type": "code",
   "execution_count": null,
   "metadata": {},
   "outputs": [],
   "source": []
  }
 ],
 "metadata": {
  "kernelspec": {
   "display_name": "Python 3",
   "language": "python",
   "name": "python3"
  },
  "language_info": {
   "codemirror_mode": {
    "name": "ipython",
    "version": 3
   },
   "file_extension": ".py",
   "mimetype": "text/x-python",
   "name": "python",
   "nbconvert_exporter": "python",
   "pygments_lexer": "ipython3",
   "version": "3.7.3"
  }
 },
 "nbformat": 4,
 "nbformat_minor": 2
}
