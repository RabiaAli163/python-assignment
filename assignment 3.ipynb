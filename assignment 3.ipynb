{
 "cells": [
  {
   "cell_type": "code",
   "execution_count": 1,
   "metadata": {},
   "outputs": [
    {
     "name": "stdout",
     "output_type": "stream",
     "text": [
      "Please select operation -\n",
      " 1. Add\n",
      " 2. Subtract\n",
      " 3. Multiply\n",
      " 4. Divide\n",
      " 5. Power\n",
      "\n",
      "Select operations from 1, 2, 3, 4, 5 :5\n",
      "Enter first number: 2\n",
      "Enter second number: 3\n",
      "2 ** 3 = 8\n"
     ]
    }
   ],
   "source": [
    "def add(num1, num2): \n",
    "    return num1 + num2   \n",
    "def subtract(num1, num2): \n",
    "    return num1 - num2 \n",
    "def multiply(num1, num2): \n",
    "    return num1 * num2 \n",
    "def divide(num1, num2): \n",
    "    return num1 / num2\n",
    "def power(num1, num2):\n",
    "    return(num1**num2)\n",
    "  \n",
    "print(\"Please select operation -\\n 1. Add\\n 2. Subtract\\n 3. Multiply\\n 4. Divide\\n 5. Power\\n\")\n",
    "      \n",
    "select = input(\"Select operations from 1, 2, 3, 4, 5 :\") \n",
    "  \n",
    "number_1 = int(input(\"Enter first number: \")) \n",
    "number_2 = int(input(\"Enter second number: \")) \n",
    "  \n",
    "if select == '1': \n",
    "    print(number_1, \"+\", number_2, \"=\", \n",
    "                    add(number_1, number_2)) \n",
    "elif select == '2': \n",
    "    print(number_1, \"-\", number_2, \"=\", \n",
    "                    subtract(number_1, number_2)) \n",
    "elif select == '3': \n",
    "    print(number_1, \"*\", number_2, \"=\", \n",
    "                    multiply(number_1, number_2)) \n",
    "elif select == '4': \n",
    "    print(number_1, \"/\", number_2, \"=\", \n",
    "                    divide(number_1, number_2)) \n",
    "elif select == '5':\n",
    "    print(number_1, \"**\", number_2, \"=\",\n",
    "          power(number_1, number_2))\n",
    "else: \n",
    "    print(\"Invalid input\") "
   ]
  },
  {
   "cell_type": "code",
   "execution_count": 18,
   "metadata": {},
   "outputs": [
    {
     "name": "stdout",
     "output_type": "stream",
     "text": [
      "Checking if 4 exists in list : \n",
      "Element doesnot exists \n",
      "Element doesnot exists \n",
      "Element doesnot exists \n",
      "Element doesnot exists \n",
      "Element doesnot exists \n",
      "Element Exists\n",
      "Element doesnot exists \n",
      "Element doesnot exists \n"
     ]
    }
   ],
   "source": [
    "test_list = [ 1, 6, 3, 5, 3, 4, \"ali\", \"sara\"] \n",
    "  \n",
    "print(\"Checking if 4 exists in list : \") \n",
    "\n",
    "for i in test_list: \n",
    "    if(i == 4 ) : \n",
    "        print (\"Element Exists\") \n",
    "    else:\n",
    "        print(\"Element doesnot exists \")"
   ]
  },
  {
   "cell_type": "code",
   "execution_count": 2,
   "metadata": {},
   "outputs": [
    {
     "name": "stdout",
     "output_type": "stream",
     "text": [
      "Current Dict is:  {'a': 'rabia', 'b': 'ali'}\n",
      "Updated Dict is:  {'a': 'rabia', 'b': 'nimra', 'c': 'saba'}\n"
     ]
    }
   ],
   "source": [
    "dict = {'a':'rabia', 'b':'ali'} \n",
    "print(\"Current Dict is: \", dict) \n",
    "dict['c'] = 'saba'\n",
    "dict['b'] = 'nimra'\n",
    "print(\"Updated Dict is: \", dict) "
   ]
  },
  {
   "cell_type": "code",
   "execution_count": 7,
   "metadata": {},
   "outputs": [
    {
     "name": "stdout",
     "output_type": "stream",
     "text": [
      "sum:  109\n"
     ]
    }
   ],
   "source": [
    "def returnSum(dict): \n",
    "      \n",
    "    sum = 0\n",
    "    for i in dict: \n",
    "        sum = sum + dict[i] \n",
    "      \n",
    "    return sum\n",
    "dict = {'a':8, 'b':47, 'c': 2, 'd':5, 'e': 47}\n",
    "print (\"sum: \", returnSum(dict))\n"
   ]
  },
  {
   "cell_type": "code",
   "execution_count": 8,
   "metadata": {},
   "outputs": [
    {
     "name": "stdout",
     "output_type": "stream",
     "text": [
      "[20, 30, -20, 60]\n"
     ]
    }
   ],
   "source": [
    "def Repeat(x): \n",
    "    _size = len(x) \n",
    "    repeated = [] \n",
    "    for i in range(_size): \n",
    "        k = i + 1\n",
    "        for j in range(k, _size): \n",
    "            if x[i] == x[j] and x[i] not in repeated: \n",
    "                repeated.append(x[i]) \n",
    "    return repeated \n",
    "\n",
    "list1 = [10, 20, 30, 20, 20, 30, 40,  \n",
    "         50, -20, 60, 60, -20, -20] \n",
    "print (Repeat(list1)) "
   ]
  },
  {
   "cell_type": "code",
   "execution_count": 9,
   "metadata": {},
   "outputs": [
    {
     "name": "stdout",
     "output_type": "stream",
     "text": [
      "Key is present in the dictionary\n",
      "Key is not present in the dictionary\n"
     ]
    }
   ],
   "source": [
    "dict = {1: 10, 2: 20, 3: 30, 4: 40, 5: 50, 6: 60}\n",
    "def is_key_present(x):\n",
    "  if x in dict:\n",
    "      print('Key is present in the dictionary')\n",
    "  else:\n",
    "      print('Key is not present in the dictionary')\n",
    "is_key_present(5)\n",
    "is_key_present(9)"
   ]
  },
  {
   "cell_type": "code",
   "execution_count": null,
   "metadata": {},
   "outputs": [],
   "source": []
  }
 ],
 "metadata": {
  "kernelspec": {
   "display_name": "Python 3",
   "language": "python",
   "name": "python3"
  },
  "language_info": {
   "codemirror_mode": {
    "name": "ipython",
    "version": 3
   },
   "file_extension": ".py",
   "mimetype": "text/x-python",
   "name": "python",
   "nbconvert_exporter": "python",
   "pygments_lexer": "ipython3",
   "version": "3.7.3"
  }
 },
 "nbformat": 4,
 "nbformat_minor": 2
}
